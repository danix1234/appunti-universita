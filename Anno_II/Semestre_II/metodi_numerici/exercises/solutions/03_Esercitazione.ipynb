{
 "cells": [
  {
   "cell_type": "markdown",
   "id": "b97be3ab-d6dd-495f-a342-e5e837cfb8bc",
   "metadata": {},
   "source": [
    "#                       Esercitazione 4 - 12 Marzo 2023"
   ]
  },
  {
   "cell_type": "markdown",
   "id": "8c87694a-727f-410f-a307-3f35f0dcc933",
   "metadata": {},
   "source": [
    "Esplorate le caratteristiche dell'insieme dei numeri di macchina F($\\beta$,t,L,U) sul vostro calcolatore utilizzando il comando sys.float_info, dopo aver importato im modulo sys:\n",
    "\n",
    "import sys\n",
    "\n",
    "print(sys.float_info)"
   ]
  },
  {
   "cell_type": "code",
   "execution_count": 4,
   "id": "41befe1d-4b51-40b3-a8bc-db8b2d2b886e",
   "metadata": {
    "tags": []
   },
   "outputs": [
    {
     "name": "stdout",
     "output_type": "stream",
     "text": [
      "sys.float_info(max=1.7976931348623157e+308, max_exp=1024, max_10_exp=308, min=2.2250738585072014e-308, min_exp=-1021, min_10_exp=-307, dig=15, mant_dig=53, epsilon=2.220446049250313e-16, radix=2, rounds=1)\n"
     ]
    }
   ],
   "source": [
    "import sys\n",
    "print(sys.float_info)"
   ]
  },
  {
   "cell_type": "markdown",
   "id": "82c24c2e-15d3-4e96-8436-8a2c4b01011b",
   "metadata": {},
   "source": [
    "min_exp=-1021   (L=-1021-1=-1022)\n",
    "\n",
    "max_exp=1024    (U=1024-1=1023)\n",
    "\n",
    "mant_dig=53 (incluso l'hidden bit)\n",
    "\n",
    "dig=15, significa che i numeri \"float\" vengono convertiti in stringhe con un massimo di 15 cifre decimali. Le cifre decimali oltre la quindicesima vengono eliminate (troncate). (solo a livello di stringa visualizzata)"
   ]
  },
  {
   "cell_type": "markdown",
   "id": "224ac7e6-31df-4f15-8ffc-9c82bd21c82e",
   "metadata": {},
   "source": [
    "- **1.**  Calcolare lo spacing in  $[2^{52}, 2^{53}]$.\n",
    "    - Sia $x=2^{52}$ individuare il numero successivo a $2^{52}$ ed assegnarlo ad una variabile  y.\n",
    "    - Cosa succede se consideriamo il valore z=x+0.5?\n",
    "    - Cosa succede se consideriamo il valore q=y+0.5?\n",
    "  "
   ]
  },
  {
   "cell_type": "code",
   "execution_count": 23,
   "id": "d290b2ac-c8b5-4989-afe1-de8067449040",
   "metadata": {},
   "outputs": [
    {
     "name": "stdout",
     "output_type": "stream",
     "text": [
      "spacing:  1.0\n",
      "4503599627370496.0 4503599627370497.0\n",
      "4503599627370496.0 4503599627370496.0\n",
      "4503599627370497.0 4503599627370498.0\n"
     ]
    }
   ],
   "source": [
    "beta=2.0\n",
    "p=52\n",
    "t=53\n",
    "spacing=beta**(p+1-t)\n",
    "print(\"spacing: \", spacing)\n",
    "x=2.0**52\n",
    "y=x+spacing\n",
    "print(x,y)\n",
    "z=x+0.5\n",
    "print(x,z)\n",
    "q=y+0.5\n",
    "print(y,q)"
   ]
  },
  {
   "cell_type": "markdown",
   "id": "c73d1758-eb82-48af-8618-6dfb522dcdd6",
   "metadata": {},
   "source": [
    "- **2** Calcolare la cardinalità dell'insieme dei numeri finiti di Python"
   ]
  },
  {
   "cell_type": "code",
   "execution_count": 30,
   "id": "3eb880ec-33f3-4892-9562-0407b604b05c",
   "metadata": {},
   "outputs": [
    {
     "name": "stdout",
     "output_type": "stream",
     "text": [
      "1.842872967520007e+19\n"
     ]
    }
   ],
   "source": [
    "beta=2.0\n",
    "t=53\n",
    "u=1023\n",
    "l=-1022\n",
    "quantity=2*(beta**t-beta**(t-1))*(u-l+1)+1\n",
    "print(quantity)"
   ]
  },
  {
   "cell_type": "markdown",
   "id": "cee853bd-aca6-47f4-980f-7e44473f7523",
   "metadata": {},
   "source": [
    "- **3**  Verificare numericamente che $\\texttt{eps} = 2^{-52}$, spacing nell'intervallo $[1, 2]$,\n",
    "è il piu' piccolo $x$ tale che $fl(1 + x)$ è  diverso da $1$. \n"
   ]
  },
  {
   "cell_type": "code",
   "execution_count": 48,
   "id": "5711cba7-1599-44ac-9268-d721a376d2b5",
   "metadata": {},
   "outputs": [
    {
     "name": "stdout",
     "output_type": "stream",
     "text": [
      "2.220446049250313e-16\n",
      "1.0000000000000002\n",
      "1.0\n"
     ]
    }
   ],
   "source": [
    "beta=2.0\n",
    "p=0\n",
    "t=53\n",
    "spacing=beta**(p+1-t)\n",
    "print(spacing)\n",
    "\n",
    "print(1+spacing)\n",
    "print(1+spacing/2)"
   ]
  },
  {
   "cell_type": "markdown",
   "id": "35d7206c-f742-4616-b92c-91b37127a4d3",
   "metadata": {},
   "source": [
    "- **4** Costruire un numpy array costituito da n=10 valori tutti uguali a 0.1\n",
    "-     Effettuate la somma utilizzando un ciclo for.\n",
    "-     Effettuate la somma effettuando la somma con la funzione sum del modulo numpy.\n",
    "  Cosa osservate? Cercate di giustificare i risultati "
   ]
  },
  {
   "cell_type": "code",
   "execution_count": 81,
   "id": "465e4517-e5da-440c-9549-56756d51cabb",
   "metadata": {},
   "outputs": [
    {
     "name": "stdout",
     "output_type": "stream",
     "text": [
      "[0.1 0.1 0.1 0.1 0.1 0.1 0.1 0.1 0.1 0.1]\n",
      "0.9999999999999999\n",
      "1.0\n",
      "0.10\n"
     ]
    }
   ],
   "source": [
    "import numpy as np\n",
    "arr=np.full((10),0.1)\n",
    "print(arr)\n",
    "\n",
    "sum1 = 0\n",
    "for i in arr:\n",
    "    sum1 += i\n",
    "print(sum1)\n",
    "\n",
    "sum2 = np.sum(arr)\n",
    "print(sum2)"
   ]
  },
  {
   "cell_type": "markdown",
   "id": "d19cd104-d1ea-4444-996c-0a9672063450",
   "metadata": {},
   "source": [
    "- **5.** Siano $a=1.234567890123400 e+15$, $b=-1.234567890123401 e+15$, $c=0.06$. \n",
    "  Calcolare $(a+b)+c$, $(a+c)+b$, $a+(b+c)$. Che cosa si osserva? Ripetere l'esercizio con $a=0.23371258 e-4$, $b=0.33678429 e+2$, $c=-0.33677911 e+2$."
   ]
  },
  {
   "cell_type": "code",
   "execution_count": 68,
   "id": "64892337-1e6e-4089-a900-0d13b34be94d",
   "metadata": {},
   "outputs": [
    {
     "name": "stdout",
     "output_type": "stream",
     "text": [
      "-0.94 -1.0 -1.0\n"
     ]
    }
   ],
   "source": [
    "a=1.234567890123400e+15\n",
    "b=-1.234567890123401e+15\n",
    "c=0.06\n",
    "res1=a+b+c\n",
    "res2=a+c+b\n",
    "res3=b+c+a\n",
    "print(res1,res2,res3) # res1 is the only correct result"
   ]
  },
  {
   "cell_type": "code",
   "execution_count": 74,
   "id": "87be3324-3777-4dca-82d3-0d970c8dd72e",
   "metadata": {},
   "outputs": [
    {
     "name": "stdout",
     "output_type": "stream",
     "text": [
      "0.0005413712580022434 0.0005413712580022434 0.0005413712579995743\n"
     ]
    }
   ],
   "source": [
    "a=a=0.23371258e-4\n",
    "b=0.33678429e+2\n",
    "c=-0.33677911e+2\n",
    "res1=a+b+c\n",
    "res2=a+c+b\n",
    "res3=b+c+a\n",
    "print(res1,res2,res3) # res3 is the only correct result"
   ]
  },
  {
   "cell_type": "markdown",
   "id": "960d25c1-9677-4b1e-92c1-c16870d520b6",
   "metadata": {},
   "source": [
    "- **6.** Si considerino le espressioni $y_1=\\sqrt{x^2+1}-x$ e $y_2=\\frac{1}{\\sqrt{x^2+1}+x}$. Calcolare il valore di $y_1$ e $y_2$ per $x=7777$ e $x=77777777$. Che cosa si osserva? Commentare i risultati ottenuti."
   ]
  },
  {
   "cell_type": "code",
   "execution_count": 120,
   "id": "cc728bcd-461e-4c38-b644-b614357dd19b",
   "metadata": {},
   "outputs": [
    {
     "name": "stdout",
     "output_type": "stream",
     "text": [
      "6.429214317904552e-05\n",
      "6.429214323431402e-05\n",
      "-8.59646147292077e-10\n",
      "0.0\n",
      "6.428571492857143e-09\n",
      "-1.0\n"
     ]
    }
   ],
   "source": [
    "import math\n",
    "def calc1(x):\n",
    "    return math.sqrt(x**2+1)-x\n",
    "def calc2(x):\n",
    "    return 1/(math.sqrt(x**2+1)+x)\n",
    "\n",
    "print(calc1(7777))\n",
    "print(calc2(7777))\n",
    "print((calc1(7777)-calc2(7777)) /calc2(7777))\n",
    "print(calc1(77777777))\n",
    "print(calc2(77777777))\n",
    "print((calc1(77777777)-calc2(77777777)) /calc2(77777777))"
   ]
  },
  {
   "cell_type": "markdown",
   "id": "e3d8c3b3-d514-41ec-a6f2-eb22311ab157",
   "metadata": {},
   "source": [
    "- **7.** Valutare in aritmetica floating point l'espressione\n",
    "$$A(x)=\\frac{1}{x}-\\frac{1}{(x+1)}$$  nel vettore   $x=[10^0, 10^1,... ,10^{20}]$ contenente potenze successive  di $10$,  Si calcoli per ogni elemento di x l'errore relativo considerando come valore esatto quello calcolato usando  l'espressione algebricamente equivalente\n",
    "$$\n",
    "B(x)=\\frac{1}{x (x+1)}.\n",
    "$$ Si visualizzi l'errore relativo in un grafico in scala logaritmica su $x$ e $y$"
   ]
  },
  {
   "cell_type": "code",
   "execution_count": 106,
   "id": "909b1c99-4bec-41c8-8727-788ede229962",
   "metadata": {},
   "outputs": [
    {
     "name": "stdout",
     "output_type": "stream",
     "text": [
      "[0.5, 0.009090909090909094, 9.90099009900991e-05, 9.990009990010207e-07, 9.999000099989363e-09, 9.99990000100624e-11, 9.999989998934512e-13, 9.999998990718643e-15, 1.0000000003187713e-16, 1.0000001492112815e-18, 1.0000006145003761e-20, 9.999999682655225e-23, 1.0000484358795393e-24, 1.0009067165444198e-26, 9.939647405784749e-29, 9.860761315262648e-31, 1.232595164407831e-32, 1.5407439555097887e-33, 0.0, 0.0, 0.0]\n",
      "[0.5, 0.00909090909090909, 9.900990099009902e-05, 9.99000999000999e-07, 9.999000099990002e-09, 9.99990000099999e-11, 9.99999000001e-13, 9.9999990000001e-15, 9.999999900000002e-17, 9.99999999e-19, 9.999999999e-21, 9.9999999999e-23, 9.99999999999e-25, 9.999999999999e-27, 9.9999999999999e-29, 9.99999999999999e-31, 9.999999999999999e-33, 1e-34, 1e-36, 1e-38, 1e-40]\n"
     ]
    }
   ],
   "source": [
    "def A(x):\n",
    "    return 1/x - 1/(x+1)\n",
    "def B(x):\n",
    "    return 1/(x*(x+1))\n",
    "\n",
    "arr=[10**i for i in range(21)]\n",
    "arr1=[A(i) for i in arr]\n",
    "arr2=[B(i) for i in arr]\n",
    "print(arr1)\n",
    "print(arr2)"
   ]
  },
  {
   "cell_type": "markdown",
   "id": "27155dcd-6580-4e3d-aac9-fa42b717bf70",
   "metadata": {},
   "source": [
    "- **8-**  Risolvere l'equazione $x^2+10^k x+1=0$ con k in range(1,9). \n",
    "\n",
    "- Scrivere un codice Python che calcola le due radici: x1=(-b+sqrt(Delta))/2  e x2=(-b-sqrt(Delta))/2, dove Delta=b^2-4ac,  per tutti i valori di k in range(1,9)\n",
    "\n",
    "- Calcolare l'errore relativo della soluzione numerica x1 rispetto alla soluzione in aritmetica reale, che per valori di k alti è  uguale a $10^{-k}$, altrimenti è una sua approssimazione. \n",
    "\n",
    "- Visualizzare l'errore relativo per ogni valore di k.\n",
    "\n",
    "- Proporre un algoritmo aleternativo per il calcolo di una delle due soluzioni, che fornisca errore relativo inferiore."
   ]
  },
  {
   "cell_type": "code",
   "execution_count": null,
   "id": "de9f90ae-afca-4294-9acd-05585d601eb7",
   "metadata": {},
   "outputs": [],
   "source": []
  },
  {
   "cell_type": "markdown",
   "id": "9f6294cc-b0df-40b8-a1f5-450f4e756ffa",
   "metadata": {},
   "source": [
    "- **9.** Scrivere uno script Matlab che fornisca le approssimazioni di $e=\\exp(1)$ ottenute con la formula\n",
    "$f(n)=(1/n+1)^n$ per $n=10^k$ e  $k=0, ..., 16$. \n",
    "\n",
    "Visualizzare  un grafico con i valori di $f(n)$ al variare di n ed un grafico con i valori dell'errore relativo (considerando come valore esatto il valore math.exp(1)).  Cosa si osserva? Commentare i risultati ottenuti."
   ]
  },
  {
   "cell_type": "code",
   "execution_count": 26,
   "id": "29588be5-afa3-4df1-8efc-efc3c24c7938",
   "metadata": {},
   "outputs": [
    {
     "name": "stdout",
     "output_type": "stream",
     "text": [
      "2.0\n",
      "2.5937424601000023\n",
      "2.7048138294215285\n",
      "2.7169239322355936\n",
      "2.7181459268249255\n",
      "2.7182682371922975\n",
      "2.7182804690957534\n",
      "2.7182816941320818\n",
      "2.7182817983473577\n",
      "2.7182820520115603\n",
      "2.7182820532347876\n",
      "2.71828205335711\n",
      "2.7185234960372378\n",
      "2.716110034086901\n",
      "2.716110034087023\n",
      "3.035035206549262\n",
      "1.0\n"
     ]
    },
    {
     "data": {
      "text/plain": [
       "[<matplotlib.lines.Line2D at 0x7fa656209010>]"
      ]
     },
     "execution_count": 26,
     "metadata": {},
     "output_type": "execute_result"
    },
    {
     "data": {
      "image/png": "[encoded data removed]",
      "text/plain": [
       "<Figure size 640x480 with 1 Axes>"
      ]
     },
     "metadata": {},
     "output_type": "display_data"
    }
   ],
   "source": [
    "def f(n):\n",
    "    return (1/n +1)**n\n",
    "    \n",
    "for i in range(17):\n",
    "    print(f(10.0**i))\n",
    "\n",
    "import matplotlib.pyplot as plt\n",
    "x=[10.0**i for i in range(17)]\n",
    "y=[f(10.0**i) for i in range(17)]\n",
    "plt.semilogx(x,y)"
   ]
  }
 ],
 "metadata": {
  "kernelspec": {
   "display_name": "Python 3 (ipykernel)",
   "language": "python",
   "name": "python3"
  },
  "language_info": {
   "codemirror_mode": {
    "name": "ipython",
    "version": 3
   },
   "file_extension": ".py",
   "mimetype": "text/x-python",
   "name": "python",
   "nbconvert_exporter": "python",
   "pygments_lexer": "ipython3",
   "version": "3.11.7"
  }
 },
 "nbformat": 4,
 "nbformat_minor": 5
}
