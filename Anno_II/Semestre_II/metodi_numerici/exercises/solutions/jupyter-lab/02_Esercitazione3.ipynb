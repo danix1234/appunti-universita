{
 "cells": [
  {
   "cell_type": "markdown",
   "id": "cd8d6a57-49d8-4eab-bb0f-107b277ad3d1",
   "metadata": {},
   "source": [
    "## Esercizi sui Numpy array  5 Marzo 2024\n"
   ]
  },
  {
   "cell_type": "markdown",
   "id": "d3445102-1135-4f49-8673-dcba181f883b",
   "metadata": {},
   "source": [
    "**Esercizio 1**\n",
    "\n",
    "Confrontare il tempo di esecuzione dei due metodi per la creazione di un numpy array di 2000000 di elementi equidistanti nell'intervallo [-4,4]:\n",
    "\n",
    "    1) costruzione con utilizzo di np.linspace\n",
    "    \n",
    "    2) Assegnazione manuale dei valori nel ciclo.\n",
    "    "
   ]
  },
  {
   "cell_type": "code",
   "execution_count": 7,
   "id": "0111c848-ca9b-4fd7-b2c3-eddcf40509c9",
   "metadata": {
    "tags": []
   },
   "outputs": [
    {
     "name": "stdout",
     "output_type": "stream",
     "text": [
      "0.009167312000045058\n",
      "0.37911919699990904\n"
     ]
    }
   ],
   "source": [
    "import time\n",
    "import numpy as np\n",
    "\n",
    "start=time.perf_counter()\n",
    "np.linspace(-4,4,2_000_000)\n",
    "end=time.perf_counter()\n",
    "print(end-start)\n",
    "\n",
    "start=time.perf_counter()\n",
    "step = 8 / 2_000_000\n",
    "list = []\n",
    "for i in range(2_000_000):\n",
    "    list.append(-4+(step*i))\n",
    "end=time.perf_counter()\n",
    "print(end-start)"
   ]
  },
  {
   "cell_type": "markdown",
   "id": "59db5cfc-4e88-42a8-afc7-1d666abd0abc",
   "metadata": {},
   "source": [
    "**Esercizio 2**\n",
    "\n",
    "-     Creare un numpy array 1D (chiamato c) di valori equidistanti tra 7 e 41 con step 2.\n",
    "\n",
    "-      Trasformare l'array c in un numpy array 2d (chiamato c1) con shape (2,9) usando il metodo .reshape((m,n))\n",
    "\n",
    "-       Determinare se c1 e' una copia o una vista dell'originale."
   ]
  },
  {
   "cell_type": "code",
   "execution_count": 20,
   "id": "1fe66a69-b42d-4c70-b8cf-c0745196cc31",
   "metadata": {
    "tags": []
   },
   "outputs": [
    {
     "name": "stdout",
     "output_type": "stream",
     "text": [
      "[ 7  9 11 13 15 17 19 21 23 25 27 29 31 33 35 37 39 41]\n",
      "[[ 7  9 11 13 15 17 19 21 23]\n",
      " [25 27 29 31 33 35 37 39 41]]\n",
      "True\n"
     ]
    }
   ],
   "source": [
    "import numpy as np\n",
    "\n",
    "c=np.arange(7,42,2)\n",
    "print(c)\n",
    "c1=np.reshape(c,(2,9))\n",
    "print(c1)\n",
    "print(np.shares_memory(c,c1))"
   ]
  },
  {
   "cell_type": "markdown",
   "id": "7b81197a-a950-48ab-8e75-31855ac69d9d",
   "metadata": {},
   "source": [
    "**Esercizio 3**\n",
    "\n",
    "-     Costruire un numpy array 1d, denominato $C$ di valori che variano tra 15 e 41 con step 2\n",
    "\n",
    "-     Trasformarlo in un numpy array 2d con shape(7,2) usando il metodo . resize(7,2)  che lavora in-place,  (cioè  modifica l'array esistente, non è necessario creare una copia). Verificare la shape di C e dire se C è copia o vista?"
   ]
  },
  {
   "cell_type": "code",
   "execution_count": 29,
   "id": "57b7c83c-287b-46b6-b2a5-424f975844cf",
   "metadata": {
    "tags": []
   },
   "outputs": [
    {
     "name": "stdout",
     "output_type": "stream",
     "text": [
      "[15 17 19 21 23 25 27 29 31 33 35 37 39 41]\n",
      "(14,)\n",
      "[[15 17]\n",
      " [19 21]\n",
      " [23 25]\n",
      " [27 29]\n",
      " [31 33]\n",
      " [35 37]\n",
      " [39 41]]\n",
      "(7, 2)\n",
      "None\n"
     ]
    }
   ],
   "source": [
    "import numpy as np\n",
    "\n",
    "C=np.arange(15,42,2)\n",
    "print(C)\n",
    "print(C.shape)\n",
    "C.resize((7,2))\n",
    "print(C)\n",
    "print(C.shape)\n",
    "print(C.base)"
   ]
  },
  {
   "cell_type": "markdown",
   "id": "d1adc080-9ce4-404c-ba18-c831f2625214",
   "metadata": {},
   "source": [
    "**Esercizio 4**\n",
    "\n",
    "-      Costruire il numpy array  s  formato da 100 valori equidistanti in  [0,4],\n",
    "\n",
    "-      considerarne il reshape in un array 2d che ha 4 righe con un numero opportuno di colonne"
   ]
  },
  {
   "cell_type": "code",
   "execution_count": 40,
   "id": "24bf215b-fad1-4e5b-9a34-6c96dbcbbd5a",
   "metadata": {
    "tags": []
   },
   "outputs": [
    {
     "name": "stdout",
     "output_type": "stream",
     "text": [
      "[0.         0.04040404 0.08080808 0.12121212 0.16161616 0.2020202\n",
      " 0.24242424 0.28282828 0.32323232 0.36363636 0.4040404  0.44444444\n",
      " 0.48484848 0.52525253 0.56565657 0.60606061 0.64646465 0.68686869\n",
      " 0.72727273 0.76767677 0.80808081 0.84848485 0.88888889 0.92929293\n",
      " 0.96969697 1.01010101 1.05050505 1.09090909 1.13131313 1.17171717\n",
      " 1.21212121 1.25252525 1.29292929 1.33333333 1.37373737 1.41414141\n",
      " 1.45454545 1.49494949 1.53535354 1.57575758 1.61616162 1.65656566\n",
      " 1.6969697  1.73737374 1.77777778 1.81818182 1.85858586 1.8989899\n",
      " 1.93939394 1.97979798 2.02020202 2.06060606 2.1010101  2.14141414\n",
      " 2.18181818 2.22222222 2.26262626 2.3030303  2.34343434 2.38383838\n",
      " 2.42424242 2.46464646 2.50505051 2.54545455 2.58585859 2.62626263\n",
      " 2.66666667 2.70707071 2.74747475 2.78787879 2.82828283 2.86868687\n",
      " 2.90909091 2.94949495 2.98989899 3.03030303 3.07070707 3.11111111\n",
      " 3.15151515 3.19191919 3.23232323 3.27272727 3.31313131 3.35353535\n",
      " 3.39393939 3.43434343 3.47474747 3.51515152 3.55555556 3.5959596\n",
      " 3.63636364 3.67676768 3.71717172 3.75757576 3.7979798  3.83838384\n",
      " 3.87878788 3.91919192 3.95959596 4.        ]\n",
      "[[0.         0.04040404 0.08080808 0.12121212 0.16161616 0.2020202\n",
      "  0.24242424 0.28282828 0.32323232 0.36363636 0.4040404  0.44444444\n",
      "  0.48484848 0.52525253 0.56565657 0.60606061 0.64646465 0.68686869\n",
      "  0.72727273 0.76767677 0.80808081 0.84848485 0.88888889 0.92929293\n",
      "  0.96969697]\n",
      " [1.01010101 1.05050505 1.09090909 1.13131313 1.17171717 1.21212121\n",
      "  1.25252525 1.29292929 1.33333333 1.37373737 1.41414141 1.45454545\n",
      "  1.49494949 1.53535354 1.57575758 1.61616162 1.65656566 1.6969697\n",
      "  1.73737374 1.77777778 1.81818182 1.85858586 1.8989899  1.93939394\n",
      "  1.97979798]\n",
      " [2.02020202 2.06060606 2.1010101  2.14141414 2.18181818 2.22222222\n",
      "  2.26262626 2.3030303  2.34343434 2.38383838 2.42424242 2.46464646\n",
      "  2.50505051 2.54545455 2.58585859 2.62626263 2.66666667 2.70707071\n",
      "  2.74747475 2.78787879 2.82828283 2.86868687 2.90909091 2.94949495\n",
      "  2.98989899]\n",
      " [3.03030303 3.07070707 3.11111111 3.15151515 3.19191919 3.23232323\n",
      "  3.27272727 3.31313131 3.35353535 3.39393939 3.43434343 3.47474747\n",
      "  3.51515152 3.55555556 3.5959596  3.63636364 3.67676768 3.71717172\n",
      "  3.75757576 3.7979798  3.83838384 3.87878788 3.91919192 3.95959596\n",
      "  4.        ]]\n"
     ]
    }
   ],
   "source": [
    "import numpy as np\n",
    "\n",
    "s=np.linspace(0,4,100)\n",
    "print(s)\n",
    "s1=s.reshape((4,-1))\n",
    "print(s1)"
   ]
  },
  {
   "cell_type": "markdown",
   "id": "d40f5d7a-4808-4004-b806-b8b75bcaa01b",
   "metadata": {},
   "source": [
    "**Esercizio 5**\n",
    "\n",
    "-     Costruire il numpy array s formato da 100 valori equidistanti in  [0,4]\n",
    "-     considerarne il reshape in un array 2d che ha 4 colonne con un numero opportuno di righe"
   ]
  },
  {
   "cell_type": "code",
   "execution_count": 47,
   "id": "7e28daba-a3c0-418e-bdd0-669076740651",
   "metadata": {
    "tags": []
   },
   "outputs": [
    {
     "name": "stdout",
     "output_type": "stream",
     "text": [
      "[0.         0.04040404 0.08080808 0.12121212 0.16161616 0.2020202\n",
      " 0.24242424 0.28282828 0.32323232 0.36363636 0.4040404  0.44444444\n",
      " 0.48484848 0.52525253 0.56565657 0.60606061 0.64646465 0.68686869\n",
      " 0.72727273 0.76767677 0.80808081 0.84848485 0.88888889 0.92929293\n",
      " 0.96969697 1.01010101 1.05050505 1.09090909 1.13131313 1.17171717\n",
      " 1.21212121 1.25252525 1.29292929 1.33333333 1.37373737 1.41414141\n",
      " 1.45454545 1.49494949 1.53535354 1.57575758 1.61616162 1.65656566\n",
      " 1.6969697  1.73737374 1.77777778 1.81818182 1.85858586 1.8989899\n",
      " 1.93939394 1.97979798 2.02020202 2.06060606 2.1010101  2.14141414\n",
      " 2.18181818 2.22222222 2.26262626 2.3030303  2.34343434 2.38383838\n",
      " 2.42424242 2.46464646 2.50505051 2.54545455 2.58585859 2.62626263\n",
      " 2.66666667 2.70707071 2.74747475 2.78787879 2.82828283 2.86868687\n",
      " 2.90909091 2.94949495 2.98989899 3.03030303 3.07070707 3.11111111\n",
      " 3.15151515 3.19191919 3.23232323 3.27272727 3.31313131 3.35353535\n",
      " 3.39393939 3.43434343 3.47474747 3.51515152 3.55555556 3.5959596\n",
      " 3.63636364 3.67676768 3.71717172 3.75757576 3.7979798  3.83838384\n",
      " 3.87878788 3.91919192 3.95959596 4.        ]\n",
      "[[0.         0.04040404 0.08080808 0.12121212]\n",
      " [0.16161616 0.2020202  0.24242424 0.28282828]\n",
      " [0.32323232 0.36363636 0.4040404  0.44444444]\n",
      " [0.48484848 0.52525253 0.56565657 0.60606061]\n",
      " [0.64646465 0.68686869 0.72727273 0.76767677]\n",
      " [0.80808081 0.84848485 0.88888889 0.92929293]\n",
      " [0.96969697 1.01010101 1.05050505 1.09090909]\n",
      " [1.13131313 1.17171717 1.21212121 1.25252525]\n",
      " [1.29292929 1.33333333 1.37373737 1.41414141]\n",
      " [1.45454545 1.49494949 1.53535354 1.57575758]\n",
      " [1.61616162 1.65656566 1.6969697  1.73737374]\n",
      " [1.77777778 1.81818182 1.85858586 1.8989899 ]\n",
      " [1.93939394 1.97979798 2.02020202 2.06060606]\n",
      " [2.1010101  2.14141414 2.18181818 2.22222222]\n",
      " [2.26262626 2.3030303  2.34343434 2.38383838]\n",
      " [2.42424242 2.46464646 2.50505051 2.54545455]\n",
      " [2.58585859 2.62626263 2.66666667 2.70707071]\n",
      " [2.74747475 2.78787879 2.82828283 2.86868687]\n",
      " [2.90909091 2.94949495 2.98989899 3.03030303]\n",
      " [3.07070707 3.11111111 3.15151515 3.19191919]\n",
      " [3.23232323 3.27272727 3.31313131 3.35353535]\n",
      " [3.39393939 3.43434343 3.47474747 3.51515152]\n",
      " [3.55555556 3.5959596  3.63636364 3.67676768]\n",
      " [3.71717172 3.75757576 3.7979798  3.83838384]\n",
      " [3.87878788 3.91919192 3.95959596 4.        ]]\n"
     ]
    }
   ],
   "source": [
    "import numpy as np\n",
    "\n",
    "s=np.linspace(0,4,100)\n",
    "print(s)\n",
    "s1=np.reshape(s,(-1,4))\n",
    "print(s1)"
   ]
  },
  {
   "cell_type": "markdown",
   "id": "6df0f7e2-8d6d-45e3-b6c8-73ed973b62f0",
   "metadata": {},
   "source": [
    "**Esercizio 6**  \n",
    "\n",
    "-     Scrivere il numpy  array 2d, A, [[10,11,12],[13,14,15],[16,17,18]] \n",
    "-     trasformarlo in un numpy array 1d usando il metodo .ravel()  \n",
    "-     Si tratta di una copia o di una vista?"
   ]
  },
  {
   "cell_type": "code",
   "execution_count": 53,
   "id": "dcabe6a8-2fcb-400b-b6c8-4000721b587a",
   "metadata": {
    "tags": []
   },
   "outputs": [
    {
     "name": "stdout",
     "output_type": "stream",
     "text": [
      "[[10 11 12]\n",
      " [13 14 15]\n",
      " [16 17 18]]\n",
      "[10 11 12 13 14 15 16 17 18]\n",
      "True\n"
     ]
    }
   ],
   "source": [
    "import numpy as np\n",
    "\n",
    "A=np.arange(10,19).reshape((3,-1))\n",
    "print(A)\n",
    "B=A.ravel()\n",
    "print(B)\n",
    "print(np.shares_memory(A,B))"
   ]
  },
  {
   "cell_type": "markdown",
   "id": "19559c2a-0ac7-4d4a-b6ff-38e58843b3b6",
   "metadata": {},
   "source": [
    "**Esercizio 7**  \n",
    "\n",
    "-     Scrivere il numpy  array 2d, A, [[10,11,12],[13,14,15],[16,17,18]] \n",
    "-     trasformarlo in un numpy array 1d usando il metodo  .flatten().\n",
    "-     Si tratta di una copia o di una vista?"
   ]
  },
  {
   "cell_type": "code",
   "execution_count": 57,
   "id": "1c98d79a-8d5e-41c0-a525-08f2e5a386d0",
   "metadata": {
    "tags": []
   },
   "outputs": [
    {
     "name": "stdout",
     "output_type": "stream",
     "text": [
      "[[10 11 12]\n",
      " [13 14 15]\n",
      " [16 17 18]]\n",
      "[10 11 12 13 14 15 16 17 18]\n",
      "False\n"
     ]
    }
   ],
   "source": [
    "import numpy as np\n",
    "\n",
    "A=np.arange(10,19).reshape((3,-1))\n",
    "print(A)\n",
    "B=A.flatten()\n",
    "print(B)\n",
    "print(np.shares_memory(A, B))"
   ]
  },
  {
   "cell_type": "markdown",
   "id": "c77c2529-d680-42c9-9231-3aca724b1c12",
   "metadata": {},
   "source": [
    "**Esercizio 8** \n",
    "\n",
    "-     creare i due  numpy array 1d\n",
    "        f1= [ 0  1  2  3  4  5  6  7  8  9 10 11 12 13 14 15]  \n",
    "        f2= [16 17 18 19 20 21 22 23 24 25 26 27 28 29 30 31]\n",
    "-     \"vederli\" come matrici  4x4 ed effettuarne il prodotto scalare, memorizzando in f3 la matrice che nasce dal loro prodotto."
   ]
  },
  {
   "cell_type": "code",
   "execution_count": 61,
   "id": "8a7f068a-ba93-4f7c-9ccc-b85ba9506bf7",
   "metadata": {
    "tags": []
   },
   "outputs": [
    {
     "name": "stdout",
     "output_type": "stream",
     "text": [
      "[ 0  1  2  3  4  5  6  7  8  9 10 11 12 13 14 15]\n",
      "[16 17 18 19 20 21 22 23 24 25 26 27 28 29 30 31]\n",
      "[[ 0  1  2  3]\n",
      " [ 4  5  6  7]\n",
      " [ 8  9 10 11]\n",
      " [12 13 14 15]]\n",
      "[[16 17 18 19]\n",
      " [20 21 22 23]\n",
      " [24 25 26 27]\n",
      " [28 29 30 31]]\n",
      "[[ 152  158  164  170]\n",
      " [ 504  526  548  570]\n",
      " [ 856  894  932  970]\n",
      " [1208 1262 1316 1370]]\n"
     ]
    }
   ],
   "source": [
    "import numpy as np\n",
    "\n",
    "f1 = np.arange(16)\n",
    "f2 = np.arange(16) + 16\n",
    "print(f1)\n",
    "print(f2)\n",
    "f1.resize((4,4))\n",
    "f2.resize((4,4))\n",
    "print(f1)\n",
    "print(f2)\n",
    "f3 = f1 @ f2\n",
    "print(f3)"
   ]
  },
  {
   "cell_type": "markdown",
   "id": "c9249961-c220-46c0-9e0d-e59dfefe662c",
   "metadata": {},
   "source": [
    "**Esercizio 9**    \n",
    "\n",
    " Costruire:\n",
    "-      Numpy Array A di shape (2,10) : array di valori random campionati da una distribuzione gaussiana con media 0 e varianza 1.\n",
    " -     Numpy array 1D B di shape (20,) formato dagli interi da 0 a 19.\n",
    " \n",
    " \"Vedere\" A come un array 1D di 20 elementi ed effettuare la somma di A+B\n",
    "\n"
   ]
  },
  {
   "cell_type": "code",
   "execution_count": 68,
   "id": "c366e56c-9cf2-46ce-9814-99715b7a0471",
   "metadata": {
    "tags": []
   },
   "outputs": [
    {
     "name": "stdout",
     "output_type": "stream",
     "text": [
      "[[0.16592397 0.69267485 0.81982558 0.67131154 0.1543599  0.74134709\n",
      "  0.69747663 0.83254018 0.18356255 0.97034393]\n",
      " [0.34238442 0.06710885 0.5625878  0.93280709 0.96046222 0.44049823\n",
      "  0.60178554 0.02516379 0.52353709 0.3663482 ]]\n",
      "[ 0  1  2  3  4  5  6  7  8  9 10 11 12 13 14 15 16 17 18 19]\n",
      "[0.16592397 0.69267485 0.81982558 0.67131154 0.1543599  0.74134709\n",
      " 0.69747663 0.83254018 0.18356255 0.97034393 0.34238442 0.06710885\n",
      " 0.5625878  0.93280709 0.96046222 0.44049823 0.60178554 0.02516379\n",
      " 0.52353709 0.3663482 ]\n",
      "[ 0.16592397  1.69267485  2.81982558  3.67131154  4.1543599   5.74134709\n",
      "  6.69747663  7.83254018  8.18356255  9.97034393 10.34238442 11.06710885\n",
      " 12.5625878  13.93280709 14.96046222 15.44049823 16.60178554 17.02516379\n",
      " 18.52353709 19.3663482 ]\n"
     ]
    }
   ],
   "source": [
    "import numpy as np\n",
    "\n",
    "A = np.random.rand(2,10)\n",
    "print(A)\n",
    "B = np.arange(20)\n",
    "print(B)\n",
    "A.resize((20))\n",
    "print(A)\n",
    "C=A+B\n",
    "print(C)"
   ]
  },
  {
   "cell_type": "markdown",
   "id": "7f6cf29e-d14a-46c9-8f35-e66151a9e0a3",
   "metadata": {},
   "source": [
    "**Esercizio 10** \n",
    "-     Creare un array 2D di shape (5,5), denominato B2, con valori tutti uguali a 15.\n",
    "-     Creare una copia B3 di B2. Modificare l'elemento B3[0,0] assegnandogli il valore 150. \n",
    "-     Stampare il numpy array B2 ed il numpy array B3 e verificare che B2, dopo la modifica di B3, è rimasto inalterato"
   ]
  },
  {
   "cell_type": "code",
   "execution_count": 72,
   "id": "34ec7285-1d63-4399-b8ce-4a6c6a06011c",
   "metadata": {
    "tags": []
   },
   "outputs": [
    {
     "name": "stdout",
     "output_type": "stream",
     "text": [
      "[[15 15 15 15 15]\n",
      " [15 15 15 15 15]\n",
      " [15 15 15 15 15]\n",
      " [15 15 15 15 15]\n",
      " [15 15 15 15 15]]\n",
      "[[15 15 15 15 15]\n",
      " [15 15 15 15 15]\n",
      " [15 15 15 15 15]\n",
      " [15 15 15 15 15]\n",
      " [15 15 15 15 15]]\n",
      "[[150  15  15  15  15]\n",
      " [ 15  15  15  15  15]\n",
      " [ 15  15  15  15  15]\n",
      " [ 15  15  15  15  15]\n",
      " [ 15  15  15  15  15]]\n"
     ]
    }
   ],
   "source": [
    "import numpy as np\n",
    "\n",
    "B2 = np.full((5,5),15)\n",
    "print(B2)\n",
    "B3 = B2.copy()\n",
    "B3[0,0] = 150\n",
    "print(B2)\n",
    "print(B3)"
   ]
  },
  {
   "cell_type": "markdown",
   "id": "af234d9c-98b6-4741-91a8-0c1d14ff8183",
   "metadata": {},
   "source": [
    "\n"
   ]
  },
  {
   "cell_type": "markdown",
   "id": "22c456d1-2897-412c-99c1-e9b19cbab4e7",
   "metadata": {},
   "source": [
    "**Esercizio 11**   \n",
    "\n",
    "-     Costruire  un numpy array 1D, di shape (10,) denominato  f , costituito da 10 valori equidistanti nell'intervallo [0,1]\n",
    "-     aumentarne la dimensionalità, in maniera tale che abbia shape (10,1)"
   ]
  },
  {
   "cell_type": "code",
   "execution_count": 81,
   "id": "9e54fdbc-4329-47cb-9a0e-4835eb87f3eb",
   "metadata": {
    "tags": []
   },
   "outputs": [
    {
     "name": "stdout",
     "output_type": "stream",
     "text": [
      "[0.         0.11111111 0.22222222 0.33333333 0.44444444 0.55555556\n",
      " 0.66666667 0.77777778 0.88888889 1.        ]\n",
      "(10, 1) [[0.        ]\n",
      " [0.11111111]\n",
      " [0.22222222]\n",
      " [0.33333333]\n",
      " [0.44444444]\n",
      " [0.55555556]\n",
      " [0.66666667]\n",
      " [0.77777778]\n",
      " [0.88888889]\n",
      " [1.        ]]\n"
     ]
    }
   ],
   "source": [
    "import numpy as np\n",
    "\n",
    "f=np.linspace(0,1,10)\n",
    "print(f)\n",
    "f=f[:,np.newaxis]\n",
    "print(f.shape,f)"
   ]
  },
  {
   "cell_type": "markdown",
   "id": "2866db7c-cbcb-431e-bc6a-2645577a65e8",
   "metadata": {},
   "source": [
    "- **Esercizio 12**\n",
    "-     Costruire i seguenti numpy array\n",
    "      a= np.array([14,13,12,11])\n",
    "      b=np.array([[4,3,2,1],[9,10,11,12]])\n",
    "\n",
    "  Costruire il numpy array che si ottiene concatenando a e b per righe\n"
   ]
  },
  {
   "cell_type": "code",
   "execution_count": 89,
   "id": "c8a8ad9f-8715-44b6-b4b1-d84ed5f77026",
   "metadata": {
    "tags": []
   },
   "outputs": [
    {
     "name": "stdout",
     "output_type": "stream",
     "text": [
      "[14 13 12 11]\n",
      "[[ 4  3  2  1]\n",
      " [ 9 10 11 12]]\n",
      "[[14 13 12 11]\n",
      " [ 4  3  2  1]\n",
      " [ 9 10 11 12]]\n"
     ]
    }
   ],
   "source": [
    "import numpy as np\n",
    "\n",
    "a= np.array([14,13,12,11])\n",
    "b=np.array([[4,3,2,1],[9,10,11,12]])\n",
    "print(a)\n",
    "print(b)\n",
    "c = np.vstack((a,b))\n",
    "print(c)"
   ]
  },
  {
   "cell_type": "markdown",
   "id": "d57c7290-27ce-4dce-a8e2-6b89124ed223",
   "metadata": {},
   "source": [
    "- **Esercizio 13**\n",
    "-     Costruire i seguenti numpy array\n",
    "      a= np.array([14,13,12,11])\n",
    "      b=np.array([[4,3,2,1],[9,10,11,12],[4,3,2,1],[9,10,11,12]])\n",
    "\n",
    "-\n",
    "- Costruire il numpy array che si ottiene concatenando a e b per colonne"
   ]
  },
  {
   "cell_type": "code",
   "execution_count": 91,
   "id": "a85b662b-141a-421e-835a-bd6fa9fa184e",
   "metadata": {
    "tags": []
   },
   "outputs": [
    {
     "data": {
      "text/plain": [
       "array([[14,  4,  3,  2,  1],\n",
       "       [13,  9, 10, 11, 12],\n",
       "       [12,  4,  3,  2,  1],\n",
       "       [11,  9, 10, 11, 12]])"
      ]
     },
     "execution_count": 91,
     "metadata": {},
     "output_type": "execute_result"
    }
   ],
   "source": [
    "import numpy as np\n",
    "\n",
    "a= np.array([[14],[13],[12],[11]])\n",
    "b=np.array([[4,3,2,1],[9,10,11,12],[4,3,2,1],[9,10,11,12]])\n",
    "\n",
    "np.hstack((a,b))"
   ]
  },
  {
   "cell_type": "markdown",
   "id": "7c6eb421-0e1f-445b-b72f-7d2a2451fcb4",
   "metadata": {},
   "source": [
    "**Esercizio 14**\n",
    "\n",
    "Costruire, facendo uso di una sola riga di codice, la matrice A di ordine 10, che ha gli unici elementi diversi da zero, sulla diagonale princiaple, sulla codiagonale inferiore e sulla codiagonale superiore:\n",
    "\n",
    "elementi diagonali $A_{i,i}=10 \\quad$, i=1,20\n",
    "\n",
    "elementi nella codiagonale inferiore $A_{i-1,i}=-12, \\quad$ i=2,..,20, \n",
    "\n",
    "elementi nella codiagonale superiore $A_{i,i+1}=-2 \\quad$ i=1,..,19"
   ]
  },
  {
   "cell_type": "code",
   "execution_count": 106,
   "id": "aa240607-a580-40e9-8c17-ac60f2c41f5f",
   "metadata": {
    "tags": []
   },
   "outputs": [
    {
     "name": "stdout",
     "output_type": "stream",
     "text": [
      "[[ 10  -2   0   0   0   0   0   0   0   0]\n",
      " [-12  10  -2   0   0   0   0   0   0   0]\n",
      " [  0 -12  10  -2   0   0   0   0   0   0]\n",
      " [  0   0 -12  10  -2   0   0   0   0   0]\n",
      " [  0   0   0 -12  10  -2   0   0   0   0]\n",
      " [  0   0   0   0 -12  10  -2   0   0   0]\n",
      " [  0   0   0   0   0 -12  10  -2   0   0]\n",
      " [  0   0   0   0   0   0 -12  10  -2   0]\n",
      " [  0   0   0   0   0   0   0 -12  10  -2]\n",
      " [  0   0   0   0   0   0   0   0 -12  10]]\n"
     ]
    }
   ],
   "source": [
    "import numpy as np\n",
    "\n",
    "A=(np.eye(10)*10 + np.eye(10,10,-1)*-12 + np.eye(10,10,1)*-2).astype(int)\n",
    "print(A)"
   ]
  },
  {
   "cell_type": "markdown",
   "id": "bae8a3dc-e71c-4ff4-8062-2d66c377d63f",
   "metadata": {},
   "source": [
    "**Esercizio 15**\n",
    "\n",
    "Costruire la matrice identità, denominata *I*,  della stessa dimensione di *A*"
   ]
  },
  {
   "cell_type": "code",
   "execution_count": 113,
   "id": "83222b92-e6ba-40eb-86d4-ade59e74543f",
   "metadata": {
    "tags": []
   },
   "outputs": [
    {
     "name": "stdout",
     "output_type": "stream",
     "text": [
      "[[1 0 0 0 0 0 0 0 0 0]\n",
      " [0 1 0 0 0 0 0 0 0 0]\n",
      " [0 0 1 0 0 0 0 0 0 0]\n",
      " [0 0 0 1 0 0 0 0 0 0]\n",
      " [0 0 0 0 1 0 0 0 0 0]\n",
      " [0 0 0 0 0 1 0 0 0 0]\n",
      " [0 0 0 0 0 0 1 0 0 0]\n",
      " [0 0 0 0 0 0 0 1 0 0]\n",
      " [0 0 0 0 0 0 0 0 1 0]\n",
      " [0 0 0 0 0 0 0 0 0 1]]\n"
     ]
    }
   ],
   "source": [
    "import numpy as np\n",
    "\n",
    "A=(np.eye(10)*10 + np.eye(10,10,-1)*-12 + np.eye(10,10,1)*-2).astype(int)\n",
    "I=np.identity(A.shape[0],dtype=int)\n",
    "print(I)"
   ]
  },
  {
   "cell_type": "markdown",
   "id": "612458f4-d8f6-4015-ae74-042d73cbd9f9",
   "metadata": {},
   "source": [
    "**Esercizio 16**\n",
    "\n",
    "Facendo uso dell'operatore slicing *:* ,costruire la matrice AA selezionando dalla matrice A le righe che vanno dalla 2 alla 9 con step 2 e le colonne che vanno dalla 3 alla 6 con step 2.\n",
    "La matrice AA è una vista o una copia?\n"
   ]
  },
  {
   "cell_type": "code",
   "execution_count": 115,
   "id": "f68b1628-7021-4f9f-a390-33824e4b08cc",
   "metadata": {
    "tags": []
   },
   "outputs": [
    {
     "name": "stdout",
     "output_type": "stream",
     "text": [
      "[[ 10  -2   0   0   0   0   0   0   0   0]\n",
      " [-12  10  -2   0   0   0   0   0   0   0]\n",
      " [  0 -12  10  -2   0   0   0   0   0   0]\n",
      " [  0   0 -12  10  -2   0   0   0   0   0]\n",
      " [  0   0   0 -12  10  -2   0   0   0   0]\n",
      " [  0   0   0   0 -12  10  -2   0   0   0]\n",
      " [  0   0   0   0   0 -12  10  -2   0   0]\n",
      " [  0   0   0   0   0   0 -12  10  -2   0]\n",
      " [  0   0   0   0   0   0   0 -12  10  -2]\n",
      " [  0   0   0   0   0   0   0   0 -12  10]]\n",
      "[[ -2   0]\n",
      " [-12  -2]\n",
      " [  0 -12]\n",
      " [  0   0]]\n"
     ]
    }
   ],
   "source": [
    "import numpy as np\n",
    "\n",
    "A=(np.eye(10)*10 + np.eye(10,10,-1)*-12 + np.eye(10,10,1)*-2).astype(int)\n",
    "AA=A[2:9:2,3:6:2]\n",
    "print(A)\n",
    "print(AA)"
   ]
  },
  {
   "cell_type": "markdown",
   "id": "db2a4f82-fe57-4763-bd58-9921869c671c",
   "metadata": {},
   "source": [
    "**Esercizio 17**\n",
    "\n",
    "Facendo uso dell'operatore slicing *:*, costruire la matrice A1 selezionando dalla matrice A le colonne che vanno dalla 1 alla 5 con step 2.  Trasforma la matrice A1 in una copia."
   ]
  },
  {
   "cell_type": "code",
   "execution_count": 117,
   "id": "6782b1a1-e875-4930-8fa6-48c98783b981",
   "metadata": {},
   "outputs": [
    {
     "name": "stdout",
     "output_type": "stream",
     "text": [
      "[[ -2   0   0]\n",
      " [ 10   0   0]\n",
      " [-12  -2   0]\n",
      " [  0  10   0]\n",
      " [  0 -12  -2]\n",
      " [  0   0  10]\n",
      " [  0   0 -12]\n",
      " [  0   0   0]\n",
      " [  0   0   0]\n",
      " [  0   0   0]]\n"
     ]
    }
   ],
   "source": [
    "import numpy as np\n",
    "\n",
    "A=(np.eye(10)*10 + np.eye(10,10,-1)*-12 + np.eye(10,10,1)*-2).astype(int)\n",
    "A1=A[:,1:6:2].copy()\n",
    "print(A1)"
   ]
  },
  {
   "cell_type": "markdown",
   "id": "f5a336bc-5cf9-4400-ae23-4be1f35521de",
   "metadata": {
    "tags": []
   },
   "source": [
    "**Esercizio 18**\n",
    "\n",
    "Costruisci due numpy array A e B di shape (5,5) \n",
    "   - A formata da numeri interi casuali  nell'intervallo [1,20]\n",
    "   - B formata da numeri interi casuali  nell'intervallo [1,6]\n",
    " \n",
    "  Costruisci con una sola riga di codice le seguenti matrici\n",
    "  \n",
    "  C=A+B   dove  $\\quad c_{ij}=a_{ij}+b_{ij} \\quad i=0,..,n, \\quad j=0,...,n$\n",
    "  \n",
    "  D=A-B   dove  $\\quad d_{ij}=a_{ij}-b_{ij} \\quad i=0,..,n, \\quad j=0,...,n$\n",
    "  \n",
    "  E=A*B   dove  $\\quad e_{ij}=a_{ij}*b_{ij} \\quad i=0,..,n, \\quad j=0,...,n$\n",
    "  \n",
    "  F=A\\B   dove  $\\quad f_{ij}=a_{ij}\\b_{ij} \\quad i=0,..,n, \\quad j=0,...,n$"
   ]
  },
  {
   "cell_type": "code",
   "execution_count": 122,
   "id": "24600ac7-8e75-480e-8991-bfd8960acc59",
   "metadata": {
    "tags": []
   },
   "outputs": [
    {
     "name": "stdout",
     "output_type": "stream",
     "text": [
      "[[ 9  7 12  9  5]\n",
      " [ 8 16 18  4 16]\n",
      " [16 15  4 16  1]\n",
      " [12 15  7 17 14]\n",
      " [13 15  5 19  6]]\n",
      "[[3 3 3 1 1]\n",
      " [3 4 2 1 2]\n",
      " [3 4 4 2 4]\n",
      " [3 3 5 4 2]\n",
      " [3 4 3 2 1]]\n",
      "[[12 10 15 10  6]\n",
      " [11 20 20  5 18]\n",
      " [19 19  8 18  5]\n",
      " [15 18 12 21 16]\n",
      " [16 19  8 21  7]]\n",
      "[[ 6  4  9  8  4]\n",
      " [ 5 12 16  3 14]\n",
      " [13 11  0 14 -3]\n",
      " [ 9 12  2 13 12]\n",
      " [10 11  2 17  5]]\n",
      "[[27 21 36  9  5]\n",
      " [24 64 36  4 32]\n",
      " [48 60 16 32  4]\n",
      " [36 45 35 68 28]\n",
      " [39 60 15 38  6]]\n",
      "[[3.         2.33333333 4.         9.         5.        ]\n",
      " [2.66666667 4.         9.         4.         8.        ]\n",
      " [5.33333333 3.75       1.         8.         0.25      ]\n",
      " [4.         5.         1.4        4.25       7.        ]\n",
      " [4.33333333 3.75       1.66666667 9.5        6.        ]]\n"
     ]
    }
   ],
   "source": [
    "import numpy as np\n",
    "\n",
    "A=np.random.randint(1,20,25,int).reshape((5,5))\n",
    "B=np.random.randint(1,6,25,int).reshape((5,5))\n",
    "print(A)\n",
    "print(B)\n",
    "C=A+B\n",
    "D=A-B\n",
    "E=A*B\n",
    "F=A/B\n",
    "print(C)\n",
    "print(D)\n",
    "print(E)\n",
    "print(F)"
   ]
  },
  {
   "cell_type": "markdown",
   "id": "43fad425-0411-4471-962e-c79247aecb83",
   "metadata": {},
   "source": [
    "**Esercizio 19**\n",
    "\n",
    "Costruisci la matrice ottenuta facendo il prodotto scalare tra le  matrici A e B (righe per colonne)"
   ]
  },
  {
   "cell_type": "code",
   "execution_count": 123,
   "id": "bc714397-e991-44c0-8fec-65db38f369f0",
   "metadata": {
    "tags": []
   },
   "outputs": [
    {
     "name": "stdout",
     "output_type": "stream",
     "text": [
      "[[142 155 148 129 138]\n",
      " [228 240 189 198 200]\n",
      " [170 154  93 149 168]\n",
      " [236 237 201 219 239]\n",
      " [188 195 164 213 195]]\n"
     ]
    }
   ],
   "source": [
    "import numpy as np\n",
    "\n",
    "A=np.random.randint(1,20,25,int).reshape((5,5))\n",
    "B=np.random.randint(1,6,25,int).reshape((5,5))\n",
    "C=A@B\n",
    "print(C)"
   ]
  },
  {
   "cell_type": "markdown",
   "id": "e6ae130a-1d6c-429b-ab62-718ff805d9bc",
   "metadata": {},
   "source": [
    "**Esercizio 20**\n",
    "\n",
    "Costruisci l'array ottenuto sommando gli elementi delle righe della matrice B usando l'appropriata funzione di Numpy."
   ]
  },
  {
   "cell_type": "code",
   "execution_count": 134,
   "id": "f368a180-b4b9-42ff-a881-c26eb7faa864",
   "metadata": {
    "tags": []
   },
   "outputs": [
    {
     "name": "stdout",
     "output_type": "stream",
     "text": [
      "[[1 5 1 2 1]\n",
      " [1 1 4 4 1]\n",
      " [1 3 4 4 1]\n",
      " [1 3 3 3 3]\n",
      " [4 1 1 4 5]]\n",
      "[10 11 13 13 15]\n"
     ]
    }
   ],
   "source": [
    "import numpy as np\n",
    "\n",
    "B=np.random.randint(1,6,25,int).reshape((5,5))\n",
    "C=np.sum(B,axis=1)\n",
    "print(B)\n",
    "print(C)"
   ]
  },
  {
   "cell_type": "markdown",
   "id": "4cb04c63-c9c6-41a8-8e62-bc4497a4251b",
   "metadata": {},
   "source": [
    "**Esercizio 21** \n",
    "\n",
    "Costruisci l'array ottenuto sommando gli elementi delle colonne della matrice B usando l'appropriata funzione di Numpy."
   ]
  },
  {
   "cell_type": "code",
   "execution_count": 137,
   "id": "22fcb2cb-c687-46ec-a1f7-6f8b6ab08092",
   "metadata": {
    "tags": []
   },
   "outputs": [
    {
     "name": "stdout",
     "output_type": "stream",
     "text": [
      "[[1 2 1 4 1]\n",
      " [1 1 1 4 3]\n",
      " [5 3 4 2 4]\n",
      " [5 2 5 2 5]\n",
      " [5 2 5 2 1]]\n",
      "[17 10 16 14 14]\n"
     ]
    }
   ],
   "source": [
    "import numpy as np\n",
    "\n",
    "B=np.random.randint(1,6,25,int).reshape((5,5))\n",
    "C=np.sum(B,axis=0)\n",
    "print(B)\n",
    "print(C)"
   ]
  },
  {
   "cell_type": "markdown",
   "id": "5715d0db-b005-4256-86a0-4a94a46fdd96",
   "metadata": {},
   "source": [
    "**Esercizio 22** \n",
    "\n",
    "Somma tutti gli elementi di B usando l'appropriata funzione di Numpy."
   ]
  },
  {
   "cell_type": "code",
   "execution_count": 149,
   "id": "e4d4df67-79c5-45c0-9348-407cefe4af20",
   "metadata": {
    "tags": []
   },
   "outputs": [
    {
     "name": "stdout",
     "output_type": "stream",
     "text": [
      "[[3 1 1 2 3]\n",
      " [1 4 2 2 5]\n",
      " [2 5 1 4 4]\n",
      " [1 2 3 2 5]\n",
      " [1 2 3 5 2]]\n",
      "66\n"
     ]
    }
   ],
   "source": [
    "import numpy as np\n",
    "\n",
    "B=np.random.randint(1,6,25,int).reshape((5,5))\n",
    "sum=np.sum(B)\n",
    "print(B)\n",
    "print(sum)"
   ]
  },
  {
   "cell_type": "markdown",
   "id": "337c76cc-d82b-4bbb-a57c-52080a6aa9cb",
   "metadata": {},
   "source": [
    "**Esercizio 23**\n",
    "\n",
    "Calcolare il minimo degli elementi di B, tra le righe, tra le colonne, il minimo di tutta la matrice B"
   ]
  },
  {
   "cell_type": "code",
   "execution_count": 158,
   "id": "ce936c23-e78e-4895-a232-3df7f6e46427",
   "metadata": {
    "tags": []
   },
   "outputs": [
    {
     "name": "stdout",
     "output_type": "stream",
     "text": [
      "[[1 4 2 4 1]\n",
      " [5 2 3 1 5]\n",
      " [5 2 1 5 3]\n",
      " [1 4 2 5 5]\n",
      " [5 4 5 1 3]]\n",
      "[1 1 1 1 1] [1 2 1 1 1] 1\n"
     ]
    }
   ],
   "source": [
    "import numpy as np\n",
    "\n",
    "B=np.random.randint(1,6,25,int).reshape((5,5))\n",
    "min_row=np.min(B,axis=1)\n",
    "min_col=np.min(B,axis=0)\n",
    "min=np.min(B)\n",
    "print(B)\n",
    "print(min_row,min_col,min)"
   ]
  },
  {
   "cell_type": "markdown",
   "id": "30bc84d9-f2ff-42aa-95ee-b10d69e50762",
   "metadata": {},
   "source": [
    "**Esercizio 24**\n",
    "\n",
    "Calcola e memorizza in un vettore la somma degli elementi di ogni colonna di $ |B |$. Calcola successivamente il massimo di questo vettore.\n",
    "$maxsc= \\max_{j=1,n} \\sum_{i} |b_{ij}|$"
   ]
  },
  {
   "cell_type": "code",
   "execution_count": 288,
   "id": "15edafd1-6cc2-4994-b14e-bf1eb664f13c",
   "metadata": {
    "tags": []
   },
   "outputs": [
    {
     "name": "stdout",
     "output_type": "stream",
     "text": [
      "[[5 5 5 5 3]\n",
      " [3 2 4 1 3]\n",
      " [3 4 5 3 3]\n",
      " [1 4 2 4 1]\n",
      " [2 1 2 3 5]]\n",
      "[23 13 18 12 13] 23\n"
     ]
    }
   ],
   "source": [
    "import numpy as np\n",
    "\n",
    "B=np.random.randint(1,6,25,int).reshape((5,5))\n",
    "sum=np.sum(B,axis=1)\n",
    "max=np.max(sum)\n",
    "print(B)\n",
    "print(sum,max)"
   ]
  },
  {
   "cell_type": "markdown",
   "id": "7763e180-a6f1-41d3-9af7-4fb92bacd72d",
   "metadata": {},
   "source": [
    "**Esercizio 25**\n",
    "Calcola, memorizzando in un vettore, la somma degli elementi di ogni riga  di $ |B |$. Calcola successivamente il massimo di questo vettore.\n",
    "$maxsr= \\max_{i=1,n} \\sum_{j} |b_{ij}|$"
   ]
  },
  {
   "cell_type": "code",
   "execution_count": 289,
   "id": "c8208105-bc71-4e8d-a404-91cec5137fa1",
   "metadata": {
    "tags": []
   },
   "outputs": [
    {
     "name": "stdout",
     "output_type": "stream",
     "text": [
      "[[2 1 2 5 4]\n",
      " [2 3 2 3 1]\n",
      " [1 5 3 4 3]\n",
      " [3 1 1 5 3]\n",
      " [1 1 2 5 4]]\n",
      "[14 11 16 13 13] 16\n"
     ]
    }
   ],
   "source": [
    "import numpy as np\n",
    "\n",
    "B=np.random.randint(1,6,25,int).reshape((5,5))\n",
    "sum=np.sum(B,axis=1)\n",
    "max=np.max(sum)\n",
    "print(B)\n",
    "print(sum,max)"
   ]
  },
  {
   "cell_type": "markdown",
   "id": "89a136bb-2e23-4fca-9717-d32434f5f5ce",
   "metadata": {},
   "source": [
    "**Esercizio 26**\n",
    "\n",
    "Effettua nella matrice B lo scambio tra la  riga 2 e  la riga 3"
   ]
  },
  {
   "cell_type": "code",
   "execution_count": 163,
   "id": "083a1c66-a4c4-49a6-9fe4-9a7850bf22a1",
   "metadata": {
    "tags": []
   },
   "outputs": [
    {
     "name": "stdout",
     "output_type": "stream",
     "text": [
      "[[2 5 4 5 4]\n",
      " [4 5 5 3 5]\n",
      " [5 3 4 3 3]\n",
      " [4 4 4 1 3]\n",
      " [4 1 4 2 4]]\n",
      "[[2 5 4 5 4]\n",
      " [4 5 5 3 5]\n",
      " [4 4 4 1 3]\n",
      " [5 3 4 3 3]\n",
      " [4 1 4 2 4]]\n"
     ]
    }
   ],
   "source": [
    "import numpy as np\n",
    "\n",
    "B=np.random.randint(1,6,25,int).reshape((5,5))\n",
    "print(B)\n",
    "B[[2,3],:]=B[[3,2],:]\n",
    "print(B)"
   ]
  },
  {
   "cell_type": "markdown",
   "id": "5a00eaef-f14c-49f9-b9d1-c8ad90627935",
   "metadata": {},
   "source": [
    "**Esercizio 27**\n",
    "\n",
    "Calcola il valore massimo della colonna 0-esima della matrice B e l'indice di riga a cui appartiene"
   ]
  },
  {
   "cell_type": "code",
   "execution_count": 279,
   "id": "ed003ae5-9bdf-4dfb-9893-d1a792da8ef2",
   "metadata": {
    "tags": []
   },
   "outputs": [
    {
     "name": "stdout",
     "output_type": "stream",
     "text": [
      "[[5 4 3 2 5]\n",
      " [5 1 4 4 3]\n",
      " [5 5 3 5 3]\n",
      " [4 2 5 3 4]\n",
      " [4 4 2 3 3]]\n",
      "index:  (0, 0)\n",
      "value:  5\n"
     ]
    }
   ],
   "source": [
    "import numpy as np\n",
    "\n",
    "B=np.random.randint(1,6,25,int).reshape((5,5))\n",
    "print(B)\n",
    "index = np.argmax(B,axis=1)[0]\n",
    "print(\"index: \",(0,index))\n",
    "print(\"value: \", B[(0,index)])\n"
   ]
  },
  {
   "cell_type": "markdown",
   "id": "12be327e-41a9-4700-82b2-f78709585ce3",
   "metadata": {},
   "source": [
    "**Esercizio 28**   \n",
    "\n",
    "\n",
    "Scrivi una funzione border(m,n,visualizza=False) che:\n",
    "-      crea un array 2D di shape(m,n) che abbia tutti valori nulli\n",
    "-     imposta ad 1  i valori degli elementi sul bordo dell'array (prima ed ultima riga, prima e l'ultima colonna)\n",
    "-      Preveda un argomento di default che se impostato a True visualizza la matrice"
   ]
  },
  {
   "cell_type": "code",
   "execution_count": 185,
   "id": "84c7c855-9f6e-435e-93e4-c69a10e8cbc7",
   "metadata": {
    "tags": []
   },
   "outputs": [
    {
     "name": "stdout",
     "output_type": "stream",
     "text": [
      "[[1. 1. 1. 1. 1. 1. 1. 1.]\n",
      " [1. 0. 0. 0. 0. 0. 0. 1.]\n",
      " [1. 0. 0. 0. 0. 0. 0. 1.]\n",
      " [1. 0. 0. 0. 0. 0. 0. 1.]\n",
      " [1. 0. 0. 0. 0. 0. 0. 1.]\n",
      " [1. 1. 1. 1. 1. 1. 1. 1.]]\n"
     ]
    }
   ],
   "source": [
    "import numpy as np\n",
    "\n",
    "def border(m,n,view=False):\n",
    "    arr = np.zeros((m,n))\n",
    "    arr[[0,m-1],:]=1\n",
    "    arr[:,[0,n-1]]=1\n",
    "    if view:\n",
    "        print(arr)\n",
    "    \n",
    "border(6,8,True)"
   ]
  },
  {
   "cell_type": "markdown",
   "id": "20e88028-91cf-4f99-90b9-5d2f8148b3a9",
   "metadata": {},
   "source": [
    "**Esercizio 29**\n",
    "\n",
    "Scrivi una funzione `visualizza(f,a,b)`che prende in input una lambda function f, gli estremi dell'intervallo [a,b] su cui è definita e la visualizzi in una finestra grafica\n",
    "\n",
    "Chaima la funzione passandogli la funzione f(x)=sin(2*$\\pi$*x), [a,b]=[0,2*$\\pi$]"
   ]
  },
  {
   "cell_type": "code",
   "execution_count": 252,
   "id": "ff1bbd0c-f3a7-4c8e-906e-249da177a4c7",
   "metadata": {
    "tags": []
   },
   "outputs": [
    {
     "data": {
      "image/png": "[encoded data removed]",
      "text/plain": [
       "<Figure size 640x480 with 1 Axes>"
      ]
     },
     "metadata": {},
     "output_type": "display_data"
    }
   ],
   "source": [
    "import matplotlib.pyplot as plt\n",
    "import numpy as np\n",
    "import math\n",
    "\n",
    "def view(f,a,b):\n",
    "    x = np.linspace(a,b,1000)\n",
    "    y = [f(i) for i in x]\n",
    "    plt.plot(x,y,'')\n",
    "    plt.show()\n",
    "\n",
    "view(lambda x:math.sin(x*2*math.pi), 0, 2*math.pi)"
   ]
  },
  {
   "cell_type": "markdown",
   "id": "c4e0b8d0-b590-4554-9954-7333715b3c63",
   "metadata": {},
   "source": [
    "**Esercizio 30**\n",
    "\n",
    "Scrivi una funzione `visualizza2(f,a,b,f2,a2,b2)`che prende in input una lambda function f e gli estremi dell'intervallo [a,b]  su cui è definita, una lambda function f2 e gli estremi dell'intervallo su cui è definita [a2,b2] e le visualizzi sulla stessa finestra grafica.\n",
    "\n",
    "Chaima la funzione passandogli  una funzione f(x) quadratica ed una funzione f2(x) exponenziale ed [a,b]=[0,2]"
   ]
  },
  {
   "cell_type": "code",
   "execution_count": 253,
   "id": "e67b133d-b095-44ad-a8c5-bcda330bacca",
   "metadata": {},
   "outputs": [
    {
     "data": {
      "image/png": "[encoded data removed]",
      "text/plain": [
       "<Figure size 640x480 with 1 Axes>"
      ]
     },
     "metadata": {},
     "output_type": "display_data"
    }
   ],
   "source": [
    "import matplotlib.pyplot as plt\n",
    "import numpy as np\n",
    "import math\n",
    "\n",
    "def view2(f,a,b,f2,a2,b2):\n",
    "    x1 = np.linspace(a,b,1000)\n",
    "    y1 = [f(i) for i in x1]\n",
    "    x2 = np.linspace(a2,b2,1000)\n",
    "    y2 = [f2(i) for i in x2]\n",
    "    plt.plot(x1,y1)\n",
    "    plt.plot(x2,y2)\n",
    "    plt.show()\n",
    "        \n",
    "view2(lambda x:x**2, 0,2, lambda x:2**x, 0, 2)"
   ]
  }
 ],
 "metadata": {
  "kernelspec": {
   "display_name": "Python 3 (ipykernel)",
   "language": "python",
   "name": "python3"
  },
  "language_info": {
   "codemirror_mode": {
    "name": "ipython",
    "version": 3
   },
   "file_extension": ".py",
   "mimetype": "text/x-python",
   "name": "python",
   "nbconvert_exporter": "python",
   "pygments_lexer": "ipython3",
   "version": "3.11.5"
  }
 },
 "nbformat": 4,
 "nbformat_minor": 5
}
